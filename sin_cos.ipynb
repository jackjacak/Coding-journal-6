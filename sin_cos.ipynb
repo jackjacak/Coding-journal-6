{
 "cells": [
  {
   "cell_type": "markdown",
   "id": "fcedbe0b-3aac-4416-ba5c-0071212866b2",
   "metadata": {},
   "source": [
    "# Sine and Cosine Table\n",
    "Define functions for sin(x) and cos(x), then tabulate and print their values.\n"
   ]
  },
  {
   "cell_type": "code",
   "execution_count": 2,
   "id": "8d31da9f-9575-4351-a932-cd9a4dcb119e",
   "metadata": {},
   "outputs": [],
   "source": [
    "import math\n",
    "\n",
    "def my_sin(x):\n",
    "    \"\"\"Return sin(x).\"\"\"\n",
    "    return math.sin(x)"
   ]
  },
  {
   "cell_type": "markdown",
   "id": "db2f4715-e5b3-43df-b742-8907b6c2a798",
   "metadata": {},
   "source": [
    "### Cosine Function"
   ]
  },
  {
   "cell_type": "code",
   "execution_count": 3,
   "id": "1fc37df4-ab93-4e85-812c-7b22e94fcfef",
   "metadata": {},
   "outputs": [],
   "source": [
    "def my_cos(x):\n",
    "    \"\"\"Return cos(x).\"\"\"\n",
    "    return math.cos(x)"
   ]
  },
  {
   "cell_type": "markdown",
   "id": "b6d44f26-ab19-4164-9640-e5a06af861a5",
   "metadata": {},
   "source": [
    "### Tabulate sin(x) and cos(x) for 1000 x values between 0 and 2"
   ]
  },
  {
   "cell_type": "code",
   "execution_count": 4,
   "id": "5072c593-1329-4179-ad63-c5031bb1dc4c",
   "metadata": {},
   "outputs": [],
   "source": [
    "import numpy as np\n",
    "\n",
    "x_values = np.linspace(0, 2, 1000)\n",
    "sin_values = [my_sin(x) for x in x_values]\n",
    "cos_values = [my_cos(x) for x in x_values]"
   ]
  },
  {
   "cell_type": "markdown",
   "id": "e9d5e341-74f5-4b94-96ee-c5860f4a8fd3",
   "metadata": {},
   "source": [
    "### Print first 10 values"
   ]
  },
  {
   "cell_type": "code",
   "execution_count": 5,
   "id": "ee30bcc5-9c1f-479f-a743-6bcb58b067fe",
   "metadata": {},
   "outputs": [
    {
     "name": "stdout",
     "output_type": "stream",
     "text": [
      "   x\t\t sin(x)\t\t cos(x)\n",
      "----------------------------------------\n",
      "0.00000\t 0.00000\t 1.00000\n",
      "0.00200\t 0.00200\t 1.00000\n",
      "0.00400\t 0.00400\t 0.99999\n",
      "0.00601\t 0.00601\t 0.99998\n",
      "0.00801\t 0.00801\t 0.99997\n",
      "0.01001\t 0.01001\t 0.99995\n",
      "0.01201\t 0.01201\t 0.99993\n",
      "0.01401\t 0.01401\t 0.99990\n",
      "0.01602\t 0.01602\t 0.99987\n",
      "0.01802\t 0.01802\t 0.99984\n"
     ]
    }
   ],
   "source": [
    "print(\"   x\\t\\t sin(x)\\t\\t cos(x)\")\n",
    "print(\"-\" * 40)\n",
    "\n",
    "for i in range(10):\n",
    "    print(f\"{x_values[i]:.5f}\\t {sin_values[i]:.5f}\\t {cos_values[i]:.5f}\")"
   ]
  },
  {
   "cell_type": "code",
   "execution_count": null,
   "id": "2221b175-faf8-46c3-9857-56b45570eac0",
   "metadata": {},
   "outputs": [],
   "source": []
  }
 ],
 "metadata": {
  "kernelspec": {
   "display_name": "Python 3 (ipykernel)",
   "language": "python",
   "name": "python3"
  },
  "language_info": {
   "codemirror_mode": {
    "name": "ipython",
    "version": 3
   },
   "file_extension": ".py",
   "mimetype": "text/x-python",
   "name": "python",
   "nbconvert_exporter": "python",
   "pygments_lexer": "ipython3",
   "version": "3.14.0"
  }
 },
 "nbformat": 4,
 "nbformat_minor": 5
}
